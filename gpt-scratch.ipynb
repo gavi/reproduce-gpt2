{
 "cells": [
  {
   "cell_type": "code",
   "execution_count": 147,
   "metadata": {},
   "outputs": [],
   "source": [
    "import random\n",
    "import torch\n",
    "import torch.nn as nn\n",
    "import torch.functional as F"
   ]
  },
  {
   "cell_type": "code",
   "execution_count": 75,
   "metadata": {},
   "outputs": [],
   "source": [
    "data = open('input.txt').read()"
   ]
  },
  {
   "cell_type": "code",
   "execution_count": 76,
   "metadata": {},
   "outputs": [],
   "source": [
    "chars = sorted(set(data))"
   ]
  },
  {
   "cell_type": "code",
   "execution_count": 77,
   "metadata": {},
   "outputs": [],
   "source": [
    "#Lets create a simple tokenizer\n",
    "\n",
    "atoi = {x:i for i,x in enumerate(chars)}\n",
    "itoa = {i:x for i,x in enumerate(chars)}\n",
    "encode = lambda s:[atoi[ch] for ch in s]\n",
    "decode = lambda lst:''.join([itoa[i] for i in lst])"
   ]
  },
  {
   "cell_type": "code",
   "execution_count": 78,
   "metadata": {},
   "outputs": [
    {
     "data": {
      "text/plain": [
       "[46, 43, 50, 50, 53, 1, 61, 53, 56, 50, 42]"
      ]
     },
     "execution_count": 78,
     "metadata": {},
     "output_type": "execute_result"
    }
   ],
   "source": [
    "encode('hello world')"
   ]
  },
  {
   "cell_type": "code",
   "execution_count": 79,
   "metadata": {},
   "outputs": [
    {
     "data": {
      "text/plain": [
       "'hello world'"
      ]
     },
     "execution_count": 79,
     "metadata": {},
     "output_type": "execute_result"
    }
   ],
   "source": [
    "decode([46, 43, 50, 50, 53, 1, 61, 53, 56, 50, 42])"
   ]
  },
  {
   "cell_type": "code",
   "execution_count": 80,
   "metadata": {},
   "outputs": [
    {
     "name": "stdout",
     "output_type": "stream",
     "text": [
      "1115394 1003854 111540 1115394\n"
     ]
    }
   ],
   "source": [
    "#Lets create train and split data sets\n",
    "data_encoded = encode(data)\n",
    "data_train = torch.tensor(data_encoded[:int(len(data)*.9)])\n",
    "data_valid = torch.tensor(data_encoded[int(len(data)*.9):])\n",
    "\n",
    "print(len(data_encoded),len(data_train), len(data_valid),len(data_train)+len(data_valid))\n"
   ]
  },
  {
   "cell_type": "code",
   "execution_count": 81,
   "metadata": {},
   "outputs": [
    {
     "data": {
      "text/plain": [
       "65"
      ]
     },
     "execution_count": 81,
     "metadata": {},
     "output_type": "execute_result"
    }
   ],
   "source": [
    "#Lets create a function that provides the data for us to give us test samples from a sample\n",
    "\n",
    "vocab_size = len(chars)\n",
    "vocab_size"
   ]
  },
  {
   "cell_type": "code",
   "execution_count": 82,
   "metadata": {},
   "outputs": [],
   "source": [
    "#pluck one of the sample\n",
    "context_size = 8\n",
    "sample = data_train[:context_size+1]"
   ]
  },
  {
   "cell_type": "code",
   "execution_count": 83,
   "metadata": {},
   "outputs": [
    {
     "name": "stdout",
     "output_type": "stream",
     "text": [
      "tensor([18, 47, 56, 57, 58,  1, 15, 47, 58])\n",
      "tensor([18]) tensor(47)\n",
      "tensor([18, 47]) tensor(56)\n",
      "tensor([18, 47, 56]) tensor(57)\n",
      "tensor([18, 47, 56, 57]) tensor(58)\n",
      "tensor([18, 47, 56, 57, 58]) tensor(1)\n",
      "tensor([18, 47, 56, 57, 58,  1]) tensor(15)\n",
      "tensor([18, 47, 56, 57, 58,  1, 15]) tensor(47)\n",
      "tensor([18, 47, 56, 57, 58,  1, 15, 47]) tensor(58)\n"
     ]
    }
   ],
   "source": [
    "print(sample)\n",
    "for i in range(context_size):\n",
    "    print(sample[:i+1], sample[i+1])"
   ]
  },
  {
   "cell_type": "code",
   "execution_count": 84,
   "metadata": {},
   "outputs": [
    {
     "data": {
      "text/plain": [
       "[[0, [tensor([43]), tensor(1)]],\n",
       " [0, [tensor([43,  1]), tensor(39)]],\n",
       " [0, [tensor([43,  1, 39]), tensor(57)]],\n",
       " [0, [tensor([43,  1, 39, 57]), tensor(49)]],\n",
       " [0, [tensor([43,  1, 39, 57, 49]), tensor(43)]],\n",
       " [0, [tensor([43,  1, 39, 57, 49, 43]), tensor(56)]],\n",
       " [0, [tensor([43,  1, 39, 57, 49, 43, 56]), tensor(12)]],\n",
       " [0, [tensor([43,  1, 39, 57, 49, 43, 56, 12]), tensor(1)]],\n",
       " [1, [tensor([53]), tensor(51)]],\n",
       " [1, [tensor([53, 51]), tensor(43)]],\n",
       " [1, [tensor([53, 51, 43]), tensor(57)]],\n",
       " [1, [tensor([53, 51, 43, 57]), tensor(1)]],\n",
       " [1, [tensor([53, 51, 43, 57,  1]), tensor(44)]],\n",
       " [1, [tensor([53, 51, 43, 57,  1, 44]), tensor(56)]],\n",
       " [1, [tensor([53, 51, 43, 57,  1, 44, 56]), tensor(53)]],\n",
       " [1, [tensor([53, 51, 43, 57,  1, 44, 56, 53]), tensor(51)]],\n",
       " [2, [tensor([47]), tensor(52)]],\n",
       " [2, [tensor([47, 52]), tensor(1)]],\n",
       " [2, [tensor([47, 52,  1]), tensor(51)]],\n",
       " [2, [tensor([47, 52,  1, 51]), tensor(47)]],\n",
       " [2, [tensor([47, 52,  1, 51, 47]), tensor(52)]],\n",
       " [2, [tensor([47, 52,  1, 51, 47, 52]), tensor(43)]],\n",
       " [2, [tensor([47, 52,  1, 51, 47, 52, 43]), tensor(1)]],\n",
       " [2, [tensor([47, 52,  1, 51, 47, 52, 43,  1]), tensor(53)]],\n",
       " [3, [tensor([1]), tensor(58)]],\n",
       " [3, [tensor([ 1, 58]), tensor(46)]],\n",
       " [3, [tensor([ 1, 58, 46]), tensor(43)]],\n",
       " [3, [tensor([ 1, 58, 46, 43]), tensor(63)]],\n",
       " [3, [tensor([ 1, 58, 46, 43, 63]), tensor(1)]],\n",
       " [3, [tensor([ 1, 58, 46, 43, 63,  1]), tensor(61)]],\n",
       " [3, [tensor([ 1, 58, 46, 43, 63,  1, 61]), tensor(43)]],\n",
       " [3, [tensor([ 1, 58, 46, 43, 63,  1, 61, 43]), tensor(56)]]]"
      ]
     },
     "execution_count": 84,
     "metadata": {},
     "output_type": "execute_result"
    }
   ],
   "source": [
    "# so we create 8 samples for each pluck\n",
    "\n",
    "# lets createa  batch dimension\n",
    "\n",
    "batch_size = 4\n",
    "\n",
    "def get_sample():\n",
    "    ret = []\n",
    "    for b in range(batch_size):\n",
    "        #pluck context–size +1 chars\n",
    "        start = random.randint(0,len(data_train)-context_size-1)\n",
    "        sample = data_train[start: start+context_size+1]\n",
    "        for i in range(context_size):\n",
    "            ret.append([b,[sample[:i+1],sample[i+1]]])\n",
    "    return ret\n",
    "\n",
    "get_sample()"
   ]
  },
  {
   "cell_type": "code",
   "execution_count": 85,
   "metadata": {},
   "outputs": [
    {
     "data": {
      "text/plain": [
       "tensor([[1, 2, 3],\n",
       "        [1, 2, 3]])"
      ]
     },
     "execution_count": 85,
     "metadata": {},
     "output_type": "execute_result"
    }
   ],
   "source": [
    "torch.stack([torch.tensor([1,2,3]),torch.tensor([1,2,3])])"
   ]
  },
  {
   "cell_type": "code",
   "execution_count": 143,
   "metadata": {},
   "outputs": [
    {
     "name": "stdout",
     "output_type": "stream",
     "text": [
      "the city->he city.\n",
      "'s priva->s privat\n",
      "respect ->espect m\n",
      "or it wa->r it was\n"
     ]
    }
   ],
   "source": [
    "\n",
    "def get_batch():\n",
    "    ret = []\n",
    "    targets = []\n",
    "    #lets pluck a sample\n",
    "    rints = torch.randint(0,len(data_train)-context_size-1,(batch_size,))\n",
    "    for ix in rints:\n",
    "        sample = data_train[ix:ix+context_size+1]\n",
    "        y = []\n",
    "        for i in range(context_size):\n",
    "            y.append(sample[i+1])\n",
    "        targets.append(torch.tensor(y))\n",
    "        ret.append(sample[:context_size])\n",
    "        \n",
    "    return torch.stack(ret), torch.stack(targets)\n",
    "\n",
    "source, targets = get_batch()\n",
    "\n",
    "for s,t in zip(source,targets):\n",
    "    print(f\"{decode(s.tolist())}->{decode(t.tolist())}\")"
   ]
  },
  {
   "cell_type": "code",
   "execution_count": 98,
   "metadata": {},
   "outputs": [
    {
     "data": {
      "text/plain": [
       "tensor([[1, 2, 3],\n",
       "        [1, 2, 3]])"
      ]
     },
     "execution_count": 98,
     "metadata": {},
     "output_type": "execute_result"
    }
   ],
   "source": [
    "a = torch.tensor([1,2,3])\n",
    "a = torch.stack([a,a])\n",
    "a"
   ]
  },
  {
   "cell_type": "code",
   "execution_count": 148,
   "metadata": {},
   "outputs": [],
   "source": [
    "#now lets create a model\n",
    "\n",
    "class BigramModel(nn.Module):\n",
    "    def __init__(self):\n",
    "        super.__init__(BigramModel,self)\n",
    "        self.embedding_table = nn.Embedding(vocab_size,vocab_size)\n",
    "    def forward(self,x):\n",
    "        pass"
   ]
  }
 ],
 "metadata": {
  "kernelspec": {
   "display_name": "base",
   "language": "python",
   "name": "python3"
  },
  "language_info": {
   "codemirror_mode": {
    "name": "ipython",
    "version": 3
   },
   "file_extension": ".py",
   "mimetype": "text/x-python",
   "name": "python",
   "nbconvert_exporter": "python",
   "pygments_lexer": "ipython3",
   "version": "3.12.3"
  }
 },
 "nbformat": 4,
 "nbformat_minor": 2
}
