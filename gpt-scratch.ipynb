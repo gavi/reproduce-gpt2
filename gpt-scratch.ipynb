{
 "cells": [
  {
   "cell_type": "code",
   "execution_count": 30,
   "metadata": {},
   "outputs": [],
   "source": [
    "import torch\n",
    "import torch.nn as nn\n",
    "import torch.nn.functional as F\n",
    "import random"
   ]
  },
  {
   "cell_type": "code",
   "execution_count": 15,
   "metadata": {},
   "outputs": [],
   "source": [
    "data = open('input.txt').read()"
   ]
  },
  {
   "cell_type": "code",
   "execution_count": 16,
   "metadata": {},
   "outputs": [],
   "source": [
    "chars = sorted(set(data))"
   ]
  },
  {
   "cell_type": "code",
   "execution_count": 17,
   "metadata": {},
   "outputs": [],
   "source": [
    "#Lets create a simple tokenizer\n",
    "\n",
    "atoi = {x:i for i,x in enumerate(chars)}\n",
    "itoa = {i:x for i,x in enumerate(chars)}\n",
    "encode = lambda s:[atoi[ch] for ch in s]\n",
    "decode = lambda lst:''.join([itoa[i] for i in lst])"
   ]
  },
  {
   "cell_type": "code",
   "execution_count": 18,
   "metadata": {},
   "outputs": [
    {
     "data": {
      "text/plain": [
       "[46, 43, 50, 50, 53, 1, 61, 53, 56, 50, 42]"
      ]
     },
     "execution_count": 18,
     "metadata": {},
     "output_type": "execute_result"
    }
   ],
   "source": [
    "encode('hello world')"
   ]
  },
  {
   "cell_type": "code",
   "execution_count": 19,
   "metadata": {},
   "outputs": [
    {
     "data": {
      "text/plain": [
       "'hello world'"
      ]
     },
     "execution_count": 19,
     "metadata": {},
     "output_type": "execute_result"
    }
   ],
   "source": [
    "decode([46, 43, 50, 50, 53, 1, 61, 53, 56, 50, 42])"
   ]
  },
  {
   "cell_type": "code",
   "execution_count": 20,
   "metadata": {},
   "outputs": [
    {
     "name": "stdout",
     "output_type": "stream",
     "text": [
      "1115394 1003854 111540 1115394\n"
     ]
    }
   ],
   "source": [
    "#Lets create train and split data sets\n",
    "data_encoded = encode(data)\n",
    "data_train = torch.tensor(data_encoded[:int(len(data)*.9)])\n",
    "data_valid = torch.tensor(data_encoded[int(len(data)*.9):])\n",
    "\n",
    "print(len(data_encoded),len(data_train), len(data_valid),len(data_train)+len(data_valid))\n"
   ]
  },
  {
   "cell_type": "code",
   "execution_count": 21,
   "metadata": {},
   "outputs": [
    {
     "data": {
      "text/plain": [
       "65"
      ]
     },
     "execution_count": 21,
     "metadata": {},
     "output_type": "execute_result"
    }
   ],
   "source": [
    "#Lets create a function that provides the data for us to give us test samples from a sample\n",
    "\n",
    "vocab_size = len(chars)\n",
    "vocab_size"
   ]
  },
  {
   "cell_type": "code",
   "execution_count": 22,
   "metadata": {},
   "outputs": [],
   "source": [
    "#pluck one of the sample\n",
    "context_size = 8\n",
    "sample = data_train[:context_size+1]"
   ]
  },
  {
   "cell_type": "code",
   "execution_count": 23,
   "metadata": {},
   "outputs": [
    {
     "name": "stdout",
     "output_type": "stream",
     "text": [
      "tensor([18, 47, 56, 57, 58,  1, 15, 47, 58])\n",
      "tensor([18]) tensor(47)\n",
      "tensor([18, 47]) tensor(56)\n",
      "tensor([18, 47, 56]) tensor(57)\n",
      "tensor([18, 47, 56, 57]) tensor(58)\n",
      "tensor([18, 47, 56, 57, 58]) tensor(1)\n",
      "tensor([18, 47, 56, 57, 58,  1]) tensor(15)\n",
      "tensor([18, 47, 56, 57, 58,  1, 15]) tensor(47)\n",
      "tensor([18, 47, 56, 57, 58,  1, 15, 47]) tensor(58)\n"
     ]
    }
   ],
   "source": [
    "print(sample)\n",
    "for i in range(context_size):\n",
    "    print(sample[:i+1], sample[i+1])"
   ]
  },
  {
   "cell_type": "code",
   "execution_count": 24,
   "metadata": {},
   "outputs": [
    {
     "data": {
      "text/plain": [
       "[[0, [tensor([1]), tensor(47)]],\n",
       " [0, [tensor([ 1, 47]), tensor(52)]],\n",
       " [0, [tensor([ 1, 47, 52]), tensor(1)]],\n",
       " [0, [tensor([ 1, 47, 52,  1]), tensor(42)]],\n",
       " [0, [tensor([ 1, 47, 52,  1, 42]), tensor(47)]],\n",
       " [0, [tensor([ 1, 47, 52,  1, 42, 47]), tensor(57)]],\n",
       " [0, [tensor([ 1, 47, 52,  1, 42, 47, 57]), tensor(51)]],\n",
       " [0, [tensor([ 1, 47, 52,  1, 42, 47, 57, 51]), tensor(39)]],\n",
       " [1, [tensor([43]), tensor(52)]],\n",
       " [1, [tensor([43, 52]), tensor(10)]],\n",
       " [1, [tensor([43, 52, 10]), tensor(0)]],\n",
       " [1, [tensor([43, 52, 10,  0]), tensor(14)]],\n",
       " [1, [tensor([43, 52, 10,  0, 14]), tensor(59)]],\n",
       " [1, [tensor([43, 52, 10,  0, 14, 59]), tensor(58)]],\n",
       " [1, [tensor([43, 52, 10,  0, 14, 59, 58]), tensor(1)]],\n",
       " [1, [tensor([43, 52, 10,  0, 14, 59, 58,  1]), tensor(58)]],\n",
       " [2, [tensor([1]), tensor(57)]],\n",
       " [2, [tensor([ 1, 57]), tensor(47)]],\n",
       " [2, [tensor([ 1, 57, 47]), tensor(41)]],\n",
       " [2, [tensor([ 1, 57, 47, 41]), tensor(49)]],\n",
       " [2, [tensor([ 1, 57, 47, 41, 49]), tensor(52)]],\n",
       " [2, [tensor([ 1, 57, 47, 41, 49, 52]), tensor(43)]],\n",
       " [2, [tensor([ 1, 57, 47, 41, 49, 52, 43]), tensor(57)]],\n",
       " [2, [tensor([ 1, 57, 47, 41, 49, 52, 43, 57]), tensor(57)]],\n",
       " [3, [tensor([49]), tensor(1)]],\n",
       " [3, [tensor([49,  1]), tensor(53)]],\n",
       " [3, [tensor([49,  1, 53]), tensor(44)]],\n",
       " [3, [tensor([49,  1, 53, 44]), tensor(1)]],\n",
       " [3, [tensor([49,  1, 53, 44,  1]), tensor(63)]],\n",
       " [3, [tensor([49,  1, 53, 44,  1, 63]), tensor(53)]],\n",
       " [3, [tensor([49,  1, 53, 44,  1, 63, 53]), tensor(59)]],\n",
       " [3, [tensor([49,  1, 53, 44,  1, 63, 53, 59]), tensor(2)]]]"
      ]
     },
     "execution_count": 24,
     "metadata": {},
     "output_type": "execute_result"
    }
   ],
   "source": [
    "# so we create 8 samples for each pluck\n",
    "\n",
    "# lets createa  batch dimension\n",
    "\n",
    "batch_size = 4\n",
    "\n",
    "def get_sample():\n",
    "    ret = []\n",
    "    for b in range(batch_size):\n",
    "        #pluck context–size +1 chars\n",
    "        start = random.randint(0,len(data_train)-context_size-1)\n",
    "        sample = data_train[start: start+context_size+1]\n",
    "        for i in range(context_size):\n",
    "            ret.append([b,[sample[:i+1],sample[i+1]]])\n",
    "    return ret\n",
    "\n",
    "get_sample()"
   ]
  },
  {
   "cell_type": "code",
   "execution_count": 25,
   "metadata": {},
   "outputs": [
    {
     "data": {
      "text/plain": [
       "tensor([[1, 2, 3],\n",
       "        [1, 2, 3]])"
      ]
     },
     "execution_count": 25,
     "metadata": {},
     "output_type": "execute_result"
    }
   ],
   "source": [
    "torch.stack([torch.tensor([1,2,3]),torch.tensor([1,2,3])])"
   ]
  },
  {
   "cell_type": "code",
   "execution_count": 26,
   "metadata": {},
   "outputs": [
    {
     "name": "stdout",
     "output_type": "stream",
     "text": [
      "m o' the-> o' the \n",
      "at, with->t, with \n",
      "non, ano->on, anon\n",
      "y, proud->, proud \n"
     ]
    }
   ],
   "source": [
    "\n",
    "def get_batch():\n",
    "    ret = []\n",
    "    targets = []\n",
    "    #lets pluck a sample\n",
    "    rints = torch.randint(0,len(data_train)-context_size-1,(batch_size,))\n",
    "    for ix in rints:\n",
    "        sample = data_train[ix:ix+context_size+1]\n",
    "        y = []\n",
    "        for i in range(context_size):\n",
    "            y.append(sample[i+1])\n",
    "        targets.append(torch.tensor(y))\n",
    "        ret.append(sample[:context_size])\n",
    "        \n",
    "    return torch.stack(ret), torch.stack(targets)\n",
    "\n",
    "source, targets = get_batch()\n",
    "\n",
    "for s,t in zip(source,targets):\n",
    "    print(f\"{decode(s.tolist())}->{decode(t.tolist())}\")"
   ]
  },
  {
   "cell_type": "code",
   "execution_count": 27,
   "metadata": {},
   "outputs": [
    {
     "data": {
      "text/plain": [
       "tensor([[1, 2, 3],\n",
       "        [1, 2, 3]])"
      ]
     },
     "execution_count": 27,
     "metadata": {},
     "output_type": "execute_result"
    }
   ],
   "source": [
    "a = torch.tensor([1,2,3])\n",
    "a = torch.stack([a,a])\n",
    "a"
   ]
  },
  {
   "cell_type": "code",
   "execution_count": 39,
   "metadata": {},
   "outputs": [],
   "source": [
    "#now lets create a model\n",
    "\n",
    "class BigramModel(nn.Module):\n",
    "    def __init__(self):\n",
    "        super().__init__()\n",
    "        self.embedding_table = nn.Embedding(vocab_size,vocab_size)\n",
    "    def forward(self,x, targets, loss = False):\n",
    "        logits = self.embedding_table(x)\n",
    "        B,T,C = logits.shape\n",
    "        loss = F.cross_entropy(x.view(B*T,C),targets.view(B*T))\n",
    "        \n",
    "        return logits, loss"
   ]
  },
  {
   "cell_type": "code",
   "execution_count": null,
   "metadata": {},
   "outputs": [],
   "source": []
  },
  {
   "cell_type": "code",
   "execution_count": 37,
   "metadata": {},
   "outputs": [
    {
     "ename": "RuntimeError",
     "evalue": "shape '[32, 65]' is invalid for input of size 32",
     "output_type": "error",
     "traceback": [
      "\u001b[0;31m---------------------------------------------------------------------------\u001b[0m",
      "\u001b[0;31mRuntimeError\u001b[0m                              Traceback (most recent call last)",
      "Cell \u001b[0;32mIn[37], line 3\u001b[0m\n\u001b[1;32m      1\u001b[0m x \u001b[38;5;241m=\u001b[39m BigramModel()\n\u001b[0;32m----> 3\u001b[0m output, loss \u001b[38;5;241m=\u001b[39m \u001b[43mx\u001b[49m\u001b[38;5;241;43m.\u001b[39;49m\u001b[43mforward\u001b[49m\u001b[43m(\u001b[49m\u001b[43msource\u001b[49m\u001b[43m,\u001b[49m\u001b[43mtargets\u001b[49m\u001b[43m)\u001b[49m\n\u001b[1;32m      4\u001b[0m output\u001b[38;5;241m.\u001b[39mshape\n",
      "Cell \u001b[0;32mIn[35], line 10\u001b[0m, in \u001b[0;36mBigramModel.forward\u001b[0;34m(self, x, targets, loss)\u001b[0m\n\u001b[1;32m      8\u001b[0m logits \u001b[38;5;241m=\u001b[39m \u001b[38;5;28mself\u001b[39m\u001b[38;5;241m.\u001b[39membedding_table(x)\n\u001b[1;32m      9\u001b[0m B,T,C \u001b[38;5;241m=\u001b[39m logits\u001b[38;5;241m.\u001b[39mshape\n\u001b[0;32m---> 10\u001b[0m loss \u001b[38;5;241m=\u001b[39m F\u001b[38;5;241m.\u001b[39mcross_entropy(\u001b[43mx\u001b[49m\u001b[38;5;241;43m.\u001b[39;49m\u001b[43mview\u001b[49m\u001b[43m(\u001b[49m\u001b[43mB\u001b[49m\u001b[38;5;241;43m*\u001b[39;49m\u001b[43mT\u001b[49m\u001b[43m,\u001b[49m\u001b[43mC\u001b[49m\u001b[43m)\u001b[49m,targets\u001b[38;5;241m.\u001b[39mview(B\u001b[38;5;241m*\u001b[39mT))\n\u001b[1;32m     12\u001b[0m \u001b[38;5;28;01mreturn\u001b[39;00m logits, loss\n",
      "\u001b[0;31mRuntimeError\u001b[0m: shape '[32, 65]' is invalid for input of size 32"
     ]
    }
   ],
   "source": [
    "x = BigramModel()\n",
    "\n",
    "output, loss = x.forward(source,targets)\n",
    "output.shape"
   ]
  }
 ],
 "metadata": {
  "kernelspec": {
   "display_name": "base",
   "language": "python",
   "name": "python3"
  },
  "language_info": {
   "codemirror_mode": {
    "name": "ipython",
    "version": 3
   },
   "file_extension": ".py",
   "mimetype": "text/x-python",
   "name": "python",
   "nbconvert_exporter": "python",
   "pygments_lexer": "ipython3",
   "version": "3.12.3"
  }
 },
 "nbformat": 4,
 "nbformat_minor": 2
}
