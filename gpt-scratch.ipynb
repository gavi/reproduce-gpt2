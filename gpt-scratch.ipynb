{
 "cells": [
  {
   "cell_type": "code",
   "execution_count": 1,
   "metadata": {},
   "outputs": [],
   "source": [
    "import torch\n",
    "import torch.nn as nn\n",
    "import torch.nn.functional as F\n",
    "import random"
   ]
  },
  {
   "cell_type": "code",
   "execution_count": 2,
   "metadata": {},
   "outputs": [],
   "source": [
    "data = open('input.txt').read()"
   ]
  },
  {
   "cell_type": "code",
   "execution_count": 3,
   "metadata": {},
   "outputs": [],
   "source": [
    "chars = sorted(set(data))"
   ]
  },
  {
   "cell_type": "code",
   "execution_count": 4,
   "metadata": {},
   "outputs": [],
   "source": [
    "#Lets create a simple tokenizer\n",
    "\n",
    "atoi = {x:i for i,x in enumerate(chars)}\n",
    "itoa = {i:x for i,x in enumerate(chars)}\n",
    "encode = lambda s:[atoi[ch] for ch in s]\n",
    "decode = lambda lst:''.join([itoa[i] for i in lst])"
   ]
  },
  {
   "cell_type": "code",
   "execution_count": 5,
   "metadata": {},
   "outputs": [
    {
     "data": {
      "text/plain": [
       "[46, 43, 50, 50, 53, 1, 61, 53, 56, 50, 42]"
      ]
     },
     "execution_count": 5,
     "metadata": {},
     "output_type": "execute_result"
    }
   ],
   "source": [
    "encode('hello world')"
   ]
  },
  {
   "cell_type": "code",
   "execution_count": 6,
   "metadata": {},
   "outputs": [
    {
     "data": {
      "text/plain": [
       "'hello world'"
      ]
     },
     "execution_count": 6,
     "metadata": {},
     "output_type": "execute_result"
    }
   ],
   "source": [
    "decode([46, 43, 50, 50, 53, 1, 61, 53, 56, 50, 42])"
   ]
  },
  {
   "cell_type": "code",
   "execution_count": 7,
   "metadata": {},
   "outputs": [
    {
     "name": "stdout",
     "output_type": "stream",
     "text": [
      "1115394 1003854 111540 1115394\n"
     ]
    }
   ],
   "source": [
    "#Lets create train and split data sets\n",
    "data_encoded = encode(data)\n",
    "data_train = torch.tensor(data_encoded[:int(len(data)*.9)])\n",
    "data_valid = torch.tensor(data_encoded[int(len(data)*.9):])\n",
    "\n",
    "print(len(data_encoded),len(data_train), len(data_valid),len(data_train)+len(data_valid))\n"
   ]
  },
  {
   "cell_type": "code",
   "execution_count": 8,
   "metadata": {},
   "outputs": [
    {
     "data": {
      "text/plain": [
       "65"
      ]
     },
     "execution_count": 8,
     "metadata": {},
     "output_type": "execute_result"
    }
   ],
   "source": [
    "#Lets create a function that provides the data for us to give us test samples from a sample\n",
    "\n",
    "vocab_size = len(chars)\n",
    "vocab_size"
   ]
  },
  {
   "cell_type": "code",
   "execution_count": 9,
   "metadata": {},
   "outputs": [],
   "source": [
    "#pluck one of the sample\n",
    "context_size = 8\n",
    "sample = data_train[:context_size+1]"
   ]
  },
  {
   "cell_type": "code",
   "execution_count": 10,
   "metadata": {},
   "outputs": [
    {
     "name": "stdout",
     "output_type": "stream",
     "text": [
      "tensor([18, 47, 56, 57, 58,  1, 15, 47, 58])\n",
      "tensor([18]) tensor(47)\n",
      "tensor([18, 47]) tensor(56)\n",
      "tensor([18, 47, 56]) tensor(57)\n",
      "tensor([18, 47, 56, 57]) tensor(58)\n",
      "tensor([18, 47, 56, 57, 58]) tensor(1)\n",
      "tensor([18, 47, 56, 57, 58,  1]) tensor(15)\n",
      "tensor([18, 47, 56, 57, 58,  1, 15]) tensor(47)\n",
      "tensor([18, 47, 56, 57, 58,  1, 15, 47]) tensor(58)\n"
     ]
    }
   ],
   "source": [
    "print(sample)\n",
    "for i in range(context_size):\n",
    "    print(sample[:i+1], sample[i+1])"
   ]
  },
  {
   "cell_type": "code",
   "execution_count": 11,
   "metadata": {},
   "outputs": [
    {
     "data": {
      "text/plain": [
       "[[0, [tensor([12]), tensor(0)]],\n",
       " [0, [tensor([12,  0]), tensor(0)]],\n",
       " [0, [tensor([12,  0,  0]), tensor(19)]],\n",
       " [0, [tensor([12,  0,  0, 19]), tensor(24)]],\n",
       " [0, [tensor([12,  0,  0, 19, 24]), tensor(27)]],\n",
       " [0, [tensor([12,  0,  0, 19, 24, 27]), tensor(33)]],\n",
       " [0, [tensor([12,  0,  0, 19, 24, 27, 33]), tensor(15)]],\n",
       " [0, [tensor([12,  0,  0, 19, 24, 27, 33, 15]), tensor(17)]],\n",
       " [1, [tensor([1]), tensor(19)]],\n",
       " [1, [tensor([ 1, 19]), tensor(43)]],\n",
       " [1, [tensor([ 1, 19, 43]), tensor(52)]],\n",
       " [1, [tensor([ 1, 19, 43, 52]), tensor(58)]],\n",
       " [1, [tensor([ 1, 19, 43, 52, 58]), tensor(50)]],\n",
       " [1, [tensor([ 1, 19, 43, 52, 58, 50]), tensor(43)]],\n",
       " [1, [tensor([ 1, 19, 43, 52, 58, 50, 43]), tensor(51)]],\n",
       " [1, [tensor([ 1, 19, 43, 52, 58, 50, 43, 51]), tensor(39)]],\n",
       " [2, [tensor([1]), tensor(42)]],\n",
       " [2, [tensor([ 1, 42]), tensor(47)]],\n",
       " [2, [tensor([ 1, 42, 47]), tensor(43)]],\n",
       " [2, [tensor([ 1, 42, 47, 43]), tensor(8)]],\n",
       " [2, [tensor([ 1, 42, 47, 43,  8]), tensor(0)]],\n",
       " [2, [tensor([ 1, 42, 47, 43,  8,  0]), tensor(0)]],\n",
       " [2, [tensor([ 1, 42, 47, 43,  8,  0,  0]), tensor(28)]],\n",
       " [2, [tensor([ 1, 42, 47, 43,  8,  0,  0, 28]), tensor(56)]],\n",
       " [3, [tensor([58]), tensor(7)]],\n",
       " [3, [tensor([58,  7]), tensor(7)]],\n",
       " [3, [tensor([58,  7,  7]), tensor(39)]],\n",
       " [3, [tensor([58,  7,  7, 39]), tensor(57)]],\n",
       " [3, [tensor([58,  7,  7, 39, 57]), tensor(1)]],\n",
       " [3, [tensor([58,  7,  7, 39, 57,  1]), tensor(19)]],\n",
       " [3, [tensor([58,  7,  7, 39, 57,  1, 19]), tensor(53)]],\n",
       " [3, [tensor([58,  7,  7, 39, 57,  1, 19, 53]), tensor(42)]]]"
      ]
     },
     "execution_count": 11,
     "metadata": {},
     "output_type": "execute_result"
    }
   ],
   "source": [
    "# so we create 8 samples for each pluck\n",
    "\n",
    "# lets createa  batch dimension\n",
    "\n",
    "batch_size = 4\n",
    "\n",
    "def get_sample():\n",
    "    ret = []\n",
    "    for b in range(batch_size):\n",
    "        #pluck context–size +1 chars\n",
    "        start = random.randint(0,len(data_train)-context_size-1)\n",
    "        sample = data_train[start: start+context_size+1]\n",
    "        for i in range(context_size):\n",
    "            ret.append([b,[sample[:i+1],sample[i+1]]])\n",
    "    return ret\n",
    "\n",
    "get_sample()"
   ]
  },
  {
   "cell_type": "code",
   "execution_count": 12,
   "metadata": {},
   "outputs": [
    {
     "data": {
      "text/plain": [
       "tensor([[1, 2, 3],\n",
       "        [1, 2, 3]])"
      ]
     },
     "execution_count": 12,
     "metadata": {},
     "output_type": "execute_result"
    }
   ],
   "source": [
    "torch.stack([torch.tensor([1,2,3]),torch.tensor([1,2,3])])"
   ]
  },
  {
   "cell_type": "code",
   "execution_count": 13,
   "metadata": {},
   "outputs": [
    {
     "name": "stdout",
     "output_type": "stream",
     "text": [
      "re-like ->e-like t\n",
      "ur renow->r renown\n",
      "LADY ANN->ADY ANNE\n",
      "se sayin->e saying\n"
     ]
    }
   ],
   "source": [
    "\n",
    "def get_batch():\n",
    "    ret = []\n",
    "    targets = []\n",
    "    #lets pluck a sample\n",
    "    rints = torch.randint(0,len(data_train)-context_size-1,(batch_size,))\n",
    "    for ix in rints:\n",
    "        sample = data_train[ix:ix+context_size+1]\n",
    "        y = []\n",
    "        for i in range(context_size):\n",
    "            y.append(sample[i+1])\n",
    "        targets.append(torch.tensor(y))\n",
    "        ret.append(sample[:context_size])\n",
    "        \n",
    "    return torch.stack(ret), torch.stack(targets)\n",
    "\n",
    "source, targets = get_batch()\n",
    "\n",
    "for s,t in zip(source,targets):\n",
    "    print(f\"{decode(s.tolist())}->{decode(t.tolist())}\")"
   ]
  },
  {
   "cell_type": "code",
   "execution_count": 14,
   "metadata": {},
   "outputs": [
    {
     "data": {
      "text/plain": [
       "tensor([[1, 2, 3],\n",
       "        [1, 2, 3]])"
      ]
     },
     "execution_count": 14,
     "metadata": {},
     "output_type": "execute_result"
    }
   ],
   "source": [
    "a = torch.tensor([1,2,3])\n",
    "a = torch.stack([a,a])\n",
    "a"
   ]
  },
  {
   "cell_type": "code",
   "execution_count": 26,
   "metadata": {},
   "outputs": [],
   "source": [
    "#now lets create a model\n",
    "\n",
    "class BigramModel(nn.Module):\n",
    "    def __init__(self):\n",
    "        super().__init__()\n",
    "        self.embedding_table = nn.Embedding(vocab_size,vocab_size)\n",
    "        \n",
    "    def forward(self,x, targets = None):\n",
    "        logits = self.embedding_table(x)\n",
    "        loss = None\n",
    "        if targets is not None:\n",
    "            B,T,C = logits.shape\n",
    "            loss = F.cross_entropy(logits.view(B*T,C),targets.view(B*T))\n",
    "        \n",
    "        return logits, loss\n",
    "    \n",
    "    @torch.no_grad\n",
    "    def generate(self,input,max_tokens=2):\n",
    "        for _ in range(max_tokens):\n",
    "            logits, loss = self(input)\n",
    "            logits = logits[:,-1,:] # B,C only last row\n",
    "            probs = F.softmax(logits, dim=-1) #pick probs\n",
    "            idx_next = torch.multinomial(probs,num_samples=1)\n",
    "            input = torch.cat((input,idx_next), dim = 1)\n",
    "        return input"
   ]
  },
  {
   "cell_type": "code",
   "execution_count": 27,
   "metadata": {},
   "outputs": [
    {
     "data": {
      "text/plain": [
       "'Y'"
      ]
     },
     "execution_count": 27,
     "metadata": {},
     "output_type": "execute_result"
    }
   ],
   "source": [
    "x = BigramModel()\n",
    "\n",
    "input = torch.zeros(1,1, dtype = torch.long)\n",
    "\n",
    "decode(x.generate(input,max_tokens=19)[:,-1].tolist())"
   ]
  }
 ],
 "metadata": {
  "kernelspec": {
   "display_name": "base",
   "language": "python",
   "name": "python3"
  },
  "language_info": {
   "codemirror_mode": {
    "name": "ipython",
    "version": 3
   },
   "file_extension": ".py",
   "mimetype": "text/x-python",
   "name": "python",
   "nbconvert_exporter": "python",
   "pygments_lexer": "ipython3",
   "version": "3.12.3"
  }
 },
 "nbformat": 4,
 "nbformat_minor": 2
}
