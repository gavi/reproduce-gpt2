{
 "cells": [
  {
   "cell_type": "code",
   "execution_count": 30,
   "metadata": {},
   "outputs": [],
   "source": [
    "import torch\n",
    "import torch.nn as nn\n",
    "import torch.nn.functional as F\n",
    "import random"
   ]
  },
  {
   "cell_type": "code",
   "execution_count": 15,
   "metadata": {},
   "outputs": [],
   "source": [
    "data = open('input.txt').read()"
   ]
  },
  {
   "cell_type": "code",
   "execution_count": 16,
   "metadata": {},
   "outputs": [],
   "source": [
    "chars = sorted(set(data))"
   ]
  },
  {
   "cell_type": "code",
   "execution_count": 17,
   "metadata": {},
   "outputs": [],
   "source": [
    "#Lets create a simple tokenizer\n",
    "\n",
    "atoi = {x:i for i,x in enumerate(chars)}\n",
    "itoa = {i:x for i,x in enumerate(chars)}\n",
    "encode = lambda s:[atoi[ch] for ch in s]\n",
    "decode = lambda lst:''.join([itoa[i] for i in lst])"
   ]
  },
  {
   "cell_type": "code",
   "execution_count": 18,
   "metadata": {},
   "outputs": [
    {
     "data": {
      "text/plain": [
       "[46, 43, 50, 50, 53, 1, 61, 53, 56, 50, 42]"
      ]
     },
     "execution_count": 18,
     "metadata": {},
     "output_type": "execute_result"
    }
   ],
   "source": [
    "encode('hello world')"
   ]
  },
  {
   "cell_type": "code",
   "execution_count": 19,
   "metadata": {},
   "outputs": [
    {
     "data": {
      "text/plain": [
       "'hello world'"
      ]
     },
     "execution_count": 19,
     "metadata": {},
     "output_type": "execute_result"
    }
   ],
   "source": [
    "decode([46, 43, 50, 50, 53, 1, 61, 53, 56, 50, 42])"
   ]
  },
  {
   "cell_type": "code",
   "execution_count": 20,
   "metadata": {},
   "outputs": [
    {
     "name": "stdout",
     "output_type": "stream",
     "text": [
      "1115394 1003854 111540 1115394\n"
     ]
    }
   ],
   "source": [
    "#Lets create train and split data sets\n",
    "data_encoded = encode(data)\n",
    "data_train = torch.tensor(data_encoded[:int(len(data)*.9)])\n",
    "data_valid = torch.tensor(data_encoded[int(len(data)*.9):])\n",
    "\n",
    "print(len(data_encoded),len(data_train), len(data_valid),len(data_train)+len(data_valid))\n"
   ]
  },
  {
   "cell_type": "code",
   "execution_count": 21,
   "metadata": {},
   "outputs": [
    {
     "data": {
      "text/plain": [
       "65"
      ]
     },
     "execution_count": 21,
     "metadata": {},
     "output_type": "execute_result"
    }
   ],
   "source": [
    "#Lets create a function that provides the data for us to give us test samples from a sample\n",
    "\n",
    "vocab_size = len(chars)\n",
    "vocab_size"
   ]
  },
  {
   "cell_type": "code",
   "execution_count": 22,
   "metadata": {},
   "outputs": [],
   "source": [
    "#pluck one of the sample\n",
    "context_size = 8\n",
    "sample = data_train[:context_size+1]"
   ]
  },
  {
   "cell_type": "code",
   "execution_count": 23,
   "metadata": {},
   "outputs": [
    {
     "name": "stdout",
     "output_type": "stream",
     "text": [
      "tensor([18, 47, 56, 57, 58,  1, 15, 47, 58])\n",
      "tensor([18]) tensor(47)\n",
      "tensor([18, 47]) tensor(56)\n",
      "tensor([18, 47, 56]) tensor(57)\n",
      "tensor([18, 47, 56, 57]) tensor(58)\n",
      "tensor([18, 47, 56, 57, 58]) tensor(1)\n",
      "tensor([18, 47, 56, 57, 58,  1]) tensor(15)\n",
      "tensor([18, 47, 56, 57, 58,  1, 15]) tensor(47)\n",
      "tensor([18, 47, 56, 57, 58,  1, 15, 47]) tensor(58)\n"
     ]
    }
   ],
   "source": [
    "print(sample)\n",
    "for i in range(context_size):\n",
    "    print(sample[:i+1], sample[i+1])"
   ]
  },
  {
   "cell_type": "code",
   "execution_count": 24,
   "metadata": {},
   "outputs": [
    {
     "data": {
      "text/plain": [
       "[[0, [tensor([1]), tensor(47)]],\n",
       " [0, [tensor([ 1, 47]), tensor(52)]],\n",
       " [0, [tensor([ 1, 47, 52]), tensor(1)]],\n",
       " [0, [tensor([ 1, 47, 52,  1]), tensor(42)]],\n",
       " [0, [tensor([ 1, 47, 52,  1, 42]), tensor(47)]],\n",
       " [0, [tensor([ 1, 47, 52,  1, 42, 47]), tensor(57)]],\n",
       " [0, [tensor([ 1, 47, 52,  1, 42, 47, 57]), tensor(51)]],\n",
       " [0, [tensor([ 1, 47, 52,  1, 42, 47, 57, 51]), tensor(39)]],\n",
       " [1, [tensor([43]), tensor(52)]],\n",
       " [1, [tensor([43, 52]), tensor(10)]],\n",
       " [1, [tensor([43, 52, 10]), tensor(0)]],\n",
       " [1, [tensor([43, 52, 10,  0]), tensor(14)]],\n",
       " [1, [tensor([43, 52, 10,  0, 14]), tensor(59)]],\n",
       " [1, [tensor([43, 52, 10,  0, 14, 59]), tensor(58)]],\n",
       " [1, [tensor([43, 52, 10,  0, 14, 59, 58]), tensor(1)]],\n",
       " [1, [tensor([43, 52, 10,  0, 14, 59, 58,  1]), tensor(58)]],\n",
       " [2, [tensor([1]), tensor(57)]],\n",
       " [2, [tensor([ 1, 57]), tensor(47)]],\n",
       " [2, [tensor([ 1, 57, 47]), tensor(41)]],\n",
       " [2, [tensor([ 1, 57, 47, 41]), tensor(49)]],\n",
       " [2, [tensor([ 1, 57, 47, 41, 49]), tensor(52)]],\n",
       " [2, [tensor([ 1, 57, 47, 41, 49, 52]), tensor(43)]],\n",
       " [2, [tensor([ 1, 57, 47, 41, 49, 52, 43]), tensor(57)]],\n",
       " [2, [tensor([ 1, 57, 47, 41, 49, 52, 43, 57]), tensor(57)]],\n",
       " [3, [tensor([49]), tensor(1)]],\n",
       " [3, [tensor([49,  1]), tensor(53)]],\n",
       " [3, [tensor([49,  1, 53]), tensor(44)]],\n",
       " [3, [tensor([49,  1, 53, 44]), tensor(1)]],\n",
       " [3, [tensor([49,  1, 53, 44,  1]), tensor(63)]],\n",
       " [3, [tensor([49,  1, 53, 44,  1, 63]), tensor(53)]],\n",
       " [3, [tensor([49,  1, 53, 44,  1, 63, 53]), tensor(59)]],\n",
       " [3, [tensor([49,  1, 53, 44,  1, 63, 53, 59]), tensor(2)]]]"
      ]
     },
     "execution_count": 24,
     "metadata": {},
     "output_type": "execute_result"
    }
   ],
   "source": [
    "# so we create 8 samples for each pluck\n",
    "\n",
    "# lets createa  batch dimension\n",
    "\n",
    "batch_size = 4\n",
    "\n",
    "def get_sample():\n",
    "    ret = []\n",
    "    for b in range(batch_size):\n",
    "        #pluck context–size +1 chars\n",
    "        start = random.randint(0,len(data_train)-context_size-1)\n",
    "        sample = data_train[start: start+context_size+1]\n",
    "        for i in range(context_size):\n",
    "            ret.append([b,[sample[:i+1],sample[i+1]]])\n",
    "    return ret\n",
    "\n",
    "get_sample()"
   ]
  },
  {
   "cell_type": "code",
   "execution_count": 25,
   "metadata": {},
   "outputs": [
    {
     "data": {
      "text/plain": [
       "tensor([[1, 2, 3],\n",
       "        [1, 2, 3]])"
      ]
     },
     "execution_count": 25,
     "metadata": {},
     "output_type": "execute_result"
    }
   ],
   "source": [
    "torch.stack([torch.tensor([1,2,3]),torch.tensor([1,2,3])])"
   ]
  },
  {
   "cell_type": "code",
   "execution_count": 26,
   "metadata": {},
   "outputs": [
    {
     "name": "stdout",
     "output_type": "stream",
     "text": [
      "m o' the-> o' the \n",
      "at, with->t, with \n",
      "non, ano->on, anon\n",
      "y, proud->, proud \n"
     ]
    }
   ],
   "source": [
    "\n",
    "def get_batch():\n",
    "    ret = []\n",
    "    targets = []\n",
    "    #lets pluck a sample\n",
    "    rints = torch.randint(0,len(data_train)-context_size-1,(batch_size,))\n",
    "    for ix in rints:\n",
    "        sample = data_train[ix:ix+context_size+1]\n",
    "        y = []\n",
    "        for i in range(context_size):\n",
    "            y.append(sample[i+1])\n",
    "        targets.append(torch.tensor(y))\n",
    "        ret.append(sample[:context_size])\n",
    "        \n",
    "    return torch.stack(ret), torch.stack(targets)\n",
    "\n",
    "source, targets = get_batch()\n",
    "\n",
    "for s,t in zip(source,targets):\n",
    "    print(f\"{decode(s.tolist())}->{decode(t.tolist())}\")"
   ]
  },
  {
   "cell_type": "code",
   "execution_count": 27,
   "metadata": {},
   "outputs": [
    {
     "data": {
      "text/plain": [
       "tensor([[1, 2, 3],\n",
       "        [1, 2, 3]])"
      ]
     },
     "execution_count": 27,
     "metadata": {},
     "output_type": "execute_result"
    }
   ],
   "source": [
    "a = torch.tensor([1,2,3])\n",
    "a = torch.stack([a,a])\n",
    "a"
   ]
  },
  {
   "cell_type": "code",
   "execution_count": 65,
   "metadata": {},
   "outputs": [],
   "source": [
    "#now lets create a model\n",
    "\n",
    "class BigramModel(nn.Module):\n",
    "    def __init__(self):\n",
    "        super().__init__()\n",
    "        self.embedding_table = nn.Embedding(vocab_size,vocab_size)\n",
    "        \n",
    "    def forward(self,x, targets = None):\n",
    "        logits = self.embedding_table(x)\n",
    "        loss = None\n",
    "        if targets is not None:\n",
    "            B,T,C = logits.shape\n",
    "            loss = F.cross_entropy(logits.view(B*T,C),targets.view(B*T))\n",
    "        \n",
    "        return logits, loss\n",
    "    \n",
    "    @torch.no_grad\n",
    "    def generate(self,input,max_tokens=100):\n",
    "        for _ in range(max_tokens):\n",
    "            logits, loss =self(input)\n",
    "            print(logits)\n"
   ]
  },
  {
   "cell_type": "code",
   "execution_count": 66,
   "metadata": {},
   "outputs": [
    {
     "name": "stdout",
     "output_type": "stream",
     "text": [
      "tensor([[[-1.2830, -0.2802, -0.8815,  0.7098,  0.0903, -0.9175,  2.0165,\n",
      "           0.9356,  0.2431, -1.8379, -0.4376,  1.4174, -0.8573, -0.4300,\n",
      "          -0.5461, -1.8006, -0.2740, -1.8145, -0.8496,  0.4077,  0.9804,\n",
      "           0.3195, -0.3983,  2.2045,  0.0103,  0.0543,  0.2286,  1.2133,\n",
      "          -0.6995,  0.7546, -1.7312, -0.7638, -1.8308,  2.2528,  0.2313,\n",
      "           0.0565, -0.6629, -1.1353, -0.9701, -0.1469,  0.7623, -0.2421,\n",
      "           0.8602, -0.9651,  0.6953, -0.8495,  0.3138,  0.5502,  1.3210,\n",
      "          -1.6395, -1.3994, -1.1037, -0.9397, -0.7935, -1.0914,  1.7114,\n",
      "           2.3773, -0.7559,  0.9049,  0.3482,  0.5354, -1.5391,  0.9691,\n",
      "           0.2209, -0.6801]]])\n"
     ]
    }
   ],
   "source": [
    "x = BigramModel()\n",
    "\n",
    "input = torch.zeros(1,1, dtype = torch.long)\n",
    "\n",
    "x.generate(input,max_tokens=1)"
   ]
  }
 ],
 "metadata": {
  "kernelspec": {
   "display_name": "base",
   "language": "python",
   "name": "python3"
  },
  "language_info": {
   "codemirror_mode": {
    "name": "ipython",
    "version": 3
   },
   "file_extension": ".py",
   "mimetype": "text/x-python",
   "name": "python",
   "nbconvert_exporter": "python",
   "pygments_lexer": "ipython3",
   "version": "3.12.3"
  }
 },
 "nbformat": 4,
 "nbformat_minor": 2
}
